{
 "cells": [
  {
   "cell_type": "code",
   "execution_count": null,
   "metadata": {},
   "outputs": [],
   "source": [
    "import requests\n",
    "import json\n",
    "import os\n",
    "\n",
    "\n",
    "MAP_GALLERY_URL = \"https://www.realitymod.com/mapgallery/json/\"\n",
    "\n",
    "gamemodes = [\n",
    "    'gpm_cq_',\n",
    "    'gpm_insurgency_',\n",
    "    'gpm_skirmish_',\n",
    "    'gpm_cnc_',\n",
    "    'gpm_vehicles_',\n",
    "    'gpm_gungame_',\n",
    "    'gpm_coop_'\n",
    "]\n",
    "\n",
    "layers = [\n",
    "    '16',\n",
    "    '32',\n",
    "    '64',\n",
    "    '128'\n",
    "]\n",
    "\n",
    "input_file = '../src/basic_levels.json'\n",
    "\n",
    "\n",
    "with open(input_file, 'r') as file:\n",
    "    data = json.load(file)\n",
    "\n",
    "\n",
    "for map_item in data:\n",
    "    mapname = map_item['Name'].replace(\" \", \"\").lower()\n",
    "\n",
    "    for gamemode in gamemodes:\n",
    "        for layer in layers:\n",
    "            download_url = f\"{MAP_GALLERY_URL}{mapname}/{gamemode}{layer}.json\"\n",
    "\n",
    "            response = requests.get(download_url)\n",
    "\n",
    "            if response.status_code == 200:\n",
    "                \n",
    "                output_dir = f\"../src/map_json_data/{mapname}/\"\n",
    "                isExists = os.path.exists(output_dir)\n",
    "                if not isExists:\n",
    "                    os.makedirs(output_dir)\n",
    "\n",
    "                file_name = f\"{gamemode}{layer}.json\"\n",
    "                file_path = os.path.join(output_dir, file_name)\n",
    "\n",
    "                with open(file_path, 'wb') as file:\n",
    "                    file.write(response.content)\n",
    "                print(f'file downloaded successfully: {file_path}')\n",
    "            else:\n",
    "                print(f'failed to download: {download_url} - Status Code: {response.status_code}')\n"
   ]
  }
 ],
 "metadata": {
  "kernelspec": {
   "display_name": "default_env",
   "language": "python",
   "name": "python3"
  },
  "language_info": {
   "codemirror_mode": {
    "name": "ipython",
    "version": 3
   },
   "file_extension": ".py",
   "mimetype": "text/x-python",
   "name": "python",
   "nbconvert_exporter": "python",
   "pygments_lexer": "ipython3",
   "version": "3.12.2"
  }
 },
 "nbformat": 4,
 "nbformat_minor": 2
}
