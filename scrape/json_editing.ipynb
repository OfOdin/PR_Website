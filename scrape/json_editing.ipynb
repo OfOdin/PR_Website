{
 "cells": [
  {
   "cell_type": "markdown",
   "metadata": {},
   "source": [
    "# EDIT PR_LEVELS.JSON"
   ]
  },
  {
   "cell_type": "code",
   "execution_count": 1,
   "metadata": {},
   "outputs": [],
   "source": [
    "vietnam_maps = [\n",
    "    \"battle_of_ia_drang\",\n",
    "    \"vung_ro\",\n",
    "    \"charlies_point\",\n",
    "    \"op_barracuda\",\n",
    "    \"tad_sae\",\n",
    "    \"hill_488\"\n",
    "]\n",
    "\n",
    "ww2_maps = [\n",
    "    \"brecourt_assault\",\n",
    "    \"carentan\",\n",
    "    \"merville\",\n",
    "    \"omaha_beach\",\n",
    "    \"fields_of_kassel\",\n",
    "    \"reichswald\",\n",
    "    \"operation_brunswick\",\n",
    "    \"rzhev\",\n",
    "    \"battle_of_debrecen\",\n",
    "    \"battle_of_kerch\",\n",
    "    \"belyaevo\",\n",
    "    \"stalingrad\",\n",
    "    \"stalingrad_summer\"\n",
    "]\n",
    "\n",
    "strict_layers = {\n",
    "    \"op_barracuda\": \"alt\",\n",
    "    \"tad_sae\": \"alt\",\n",
    "}\n",
    "\n"
   ]
  },
  {
   "cell_type": "code",
   "execution_count": 2,
   "metadata": {},
   "outputs": [
    {
     "name": "stdout",
     "output_type": "stream",
     "text": [
      "Updated JSON data has been saved to basic_levels.json\n"
     ]
    }
   ],
   "source": [
    "import json\n",
    "\n",
    "def determine_era(map_key):\n",
    "    if map_key in vietnam_maps:\n",
    "        return 'vietnam'\n",
    "    elif map_key in ww2_maps:\n",
    "        return 'ww2'\n",
    "    else:\n",
    "        return 'modern'\n",
    "\n",
    "#### Removed for now\n",
    "# def convert_value(value):\n",
    "#     conversion = {\n",
    "#         16: 'inf',\n",
    "#         32: 'alt',\n",
    "#         64: 'std',\n",
    "#         128: 'lrg'\n",
    "#     }\n",
    "#     return conversion.get(value, value)\n",
    "\n",
    "\n",
    "input_file = 'PR_levels.json'\n",
    "output_file = '../src/basic_levels.json'\n",
    "\n",
    "with open(input_file, 'r') as file:\n",
    "    data = json.load(file)\n",
    "\n",
    "for map_entry in data:\n",
    "    map_entry.pop('Resolution', None)\n",
    "    map_entry.pop('Color', None)\n",
    "\n",
    "    map_key = map_entry.get('Key', '')\n",
    "    map_era = determine_era(map_key)\n",
    "\n",
    "    for layout in map_entry.get('Layouts', []):\n",
    "        layout['GameMode'] = layout.pop('Key', '')\n",
    "        \n",
    "        layer_value_num = layout.pop('Value', '')\n",
    "        # layout['Layer'] = convert_value(layer_value_num)\n",
    "        layout['Layer'] = layer_value_num\n",
    "\n",
    "        if map_key in strict_layers and layout['Layer'] != strict_layers[map_key]:\n",
    "            layout['Era'] = 'modern'\n",
    "        else:\n",
    "            layout['Era'] = map_era\n",
    "\n",
    "\n",
    "with open(output_file, 'w') as file:\n",
    "    json.dump(data, file, indent=4)\n",
    "\n",
    "print(f'Updated JSON data has been saved to {output_file}')"
   ]
  }
 ],
 "metadata": {
  "kernelspec": {
   "display_name": "default_env",
   "language": "python",
   "name": "python3"
  },
  "language_info": {
   "codemirror_mode": {
    "name": "ipython",
    "version": 3
   },
   "file_extension": ".py",
   "mimetype": "text/x-python",
   "name": "python",
   "nbconvert_exporter": "python",
   "pygments_lexer": "ipython3",
   "version": "3.12.2"
  }
 },
 "nbformat": 4,
 "nbformat_minor": 2
}
